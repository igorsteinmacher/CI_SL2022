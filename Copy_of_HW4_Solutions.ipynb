{
  "nbformat": 4,
  "nbformat_minor": 0,
  "metadata": {
    "colab": {
      "provenance": [],
      "collapsed_sections": [],
      "include_colab_link": true
    },
    "kernelspec": {
      "name": "python3",
      "display_name": "Python 3"
    },
    "language_info": {
      "name": "python"
    }
  },
  "cells": [
    {
      "cell_type": "markdown",
      "metadata": {
        "id": "view-in-github",
        "colab_type": "text"
      },
      "source": [
        "<a href=\"https://colab.research.google.com/github/igorsteinmacher/CI_SL2022/blob/main/Copy_of_HW4_Solutions.ipynb\" target=\"_parent\"><img src=\"https://colab.research.google.com/assets/colab-badge.svg\" alt=\"Open In Colab\"/></a>"
      ]
    },
    {
      "cell_type": "code",
      "source": [
        "# package imports\n",
        "import csv\n",
        "import random\n",
        "import string"
      ],
      "metadata": {
        "id": "CRdFt6ThkVmG"
      },
      "execution_count": null,
      "outputs": []
    },
    {
      "cell_type": "markdown",
      "source": [
        "# Solutions HW4:\n",
        "Thanks for the initial solutions Bhaskar\n",
        "\n",
        "## Instructions:\n",
        "\n",
        "1. Access the menu *File -> Save a copy in Drive* to make a copy of this notebook to your own Google Drive\n",
        "2. Change the name of the new notebook to be HW4_*StudentName* (where *StudentName* is actually your own name!)\n",
        "3. Do the activities listed in the notebook and share with the instructor granting Editor rights (use the email is339@nau.edu).\n",
        "**To turn in the assignment (on BBLearn):**\n",
        "\n",
        "After sharing the notebook with me (ALL MANDATORY):\n",
        "1. Add the Notebook URL to the field `Text Submission`\n",
        "2. Download the file as a .py file from here (*File-->Download-->Download .py*): use the same naming format as the one used in the Notebook.\n",
        "3. Submit the the py file to the assignment on BBLearn (`Attach File - Browse Local File`)\n",
        "\n",
        "**Late submissions will not be evaluated -- LATE MEANS WHAT BBLEARN CALLS LATE. I WILL NOT EXCUSE ANY LATE (even if it is 12:00)**\n"
      ],
      "metadata": {
        "id": "T1EI9qztQycL"
      }
    },
    {
      "cell_type": "markdown",
      "source": [
        "## IMPORTANT\n",
        "* **Please use exception handling whenever necessary**\n",
        "* **Host your files wherever you find more interesting** \n",
        "* **I will take the whole mark if something is not in accordance**\n"
      ],
      "metadata": {
        "id": "PLLVQ2k9Qk49"
      }
    },
    {
      "cell_type": "markdown",
      "source": [
        "## Exercise 1\n",
        "Write a Python function (`copy_file`) that, given two file names (`file_from` and `file_to`), copy the contents of `file_from` (which MUST be a CSV file) to `file_to` (which MUST be a TSV file). The file may have one or multiple lines, and each line may have 1 or multiple values.\n",
        "\n",
        "* CSV file: Comma-Separated-Values: `value 1, value 2, value 3, ...`\n",
        "* TSV file: `value 1  value 2  value 3   ...` (the spaces between values are tabs `\\t`)\n",
        "\n",
        "\n",
        "Example:\n",
        "file1.csv:\n",
        "```\n",
        "Line 1, animals, 0\n",
        "Line 2, veggies, 0, 5\n",
        "Line 3, animals, 2, 3\n",
        "Line 4\n",
        "```\n",
        "\n",
        "would be converted to:\n",
        "```\n",
        "Line 1\tanimals\t0\n",
        "Line 2\tveggies\t0\t5\n",
        "Line 3\tanimals\t2\t3\n",
        "Line 4\n",
        "```"
      ],
      "metadata": {
        "id": "68boblGiJ73V"
      }
    },
    {
      "cell_type": "markdown",
      "source": [
        "\n",
        "### Rubric (20 marks)\n",
        "\n",
        "*Correct Inputs (3 marks):*\n",
        " - using this function signature: \"copy_file(file_from, file_to)\" --> They must use these names (1)\n",
        " - Correctly opens the file_from (reading) and file_to (writing) files. (2)\n",
        "\n",
        "*Error Handling (4 marks)*\n",
        " - Include error handling for file opening (try-except for the excerpt with each open --> can be a single try-except) (4)\n",
        "\n",
        "*Processing steps (7 marks):*\n",
        " - Read from file file_from (2)\n",
        " - Write to file_to (2)\n",
        " - file_to needs to be created using tabs (\"\\t\"). If they use csv writer: delimiter ='\\t'; if they write line by line, they need to include '\\t' on their string (3)\n",
        "\n",
        "*Output (3 marks):*\n",
        " - Notify user that there was an error. (3)\n",
        "\n",
        "*Style (3 marks)*\n",
        " -  PEP (variables and functions all lower case. Meaningful names) (3)\n"
      ],
      "metadata": {
        "id": "QV9toqCLilOE"
      }
    },
    {
      "cell_type": "code",
      "source": [
        "## This is the actual solution\n",
        "## They may or may not use csv. Both are OK!\n",
        "\n",
        "def copy_file(file_from, file_to):\n",
        "  try:\n",
        "    # opening two files in read and write modes\n",
        "    # it is OK if they do in 2 steps\n",
        "    with open(file_from,'r') as source_file_iterator, open(file_to, 'w') as destination_file_iterator:\n",
        "      \n",
        "      # instantiating the file reader \n",
        "      reader = csv.reader(source_file_iterator)\n",
        "\n",
        "      # instantiating the file writer with the delimiter '\\t'\n",
        "      writer = csv.writer(destination_file_iterator, delimiter ='\\t')\n",
        "\n",
        "      # writing content to the output file using file writer\n",
        "      writer.writerows(reader)\n",
        "\n",
        "      # # iterating over the rows using the file reader\n",
        "      # for row in reader:\n",
        "      #   # writing a row to the output file using file writer\n",
        "      #   writer.writerow(row)\n",
        "\n",
        "      print(\"contents copied successfully...\")\n",
        "\n",
        "  # handling the exception\n",
        "  except Exception as e:\n",
        "    print(\"Exception occurred:{}\".format(e))\n",
        "\n",
        "copy_file('file1.csv','output.tsv')"
      ],
      "metadata": {
        "id": "Pn_LFgAl65vT",
        "colab": {
          "base_uri": "https://localhost:8080/"
        },
        "outputId": "a0495fcd-3992-4b03-eec1-d3179ac76f51"
      },
      "execution_count": null,
      "outputs": [
        {
          "output_type": "stream",
          "name": "stdout",
          "text": [
            "contents copied successfully...\n"
          ]
        }
      ]
    },
    {
      "cell_type": "code",
      "source": [
        "def copy_file(file_from, file_to):\n",
        "  try:\n",
        "    with open(file_from,'r') as source_file_iterator:  \n",
        "      # instantiating the file reader \n",
        "      reader = list(csv.reader(source_file_iterator))\n",
        "\n",
        "    with open(file_to, 'w') as destination_file_iterator:\n",
        "      # instantiating the file writer with the delimiter '\\t'\n",
        "      writer = csv.writer(destination_file_iterator, delimiter ='\\t')\n",
        "      # writing content to the output file using file writer\n",
        "      writer.writerows(reader)\n",
        "\n",
        "      # # iterating over the rows using the file reader\n",
        "      # for row in reader:\n",
        "      #   # writing a row to the output file using file writer\n",
        "      #   writer.writerow(row)\n",
        "\n",
        "      print(\"contents copied successfully...\")\n",
        "\n",
        "   # handling the exception\n",
        "  except Exception as e:\n",
        "    print(\"Exception occurred:{}\".format(e))"
      ],
      "metadata": {
        "id": "0Ajl87nkU30A"
      },
      "execution_count": null,
      "outputs": []
    },
    {
      "cell_type": "markdown",
      "source": [
        "## Exercise 2\n",
        "A csv file \"students.csv\" has each line presenting the information organized as follows:\n",
        "* `<ID>, <Student_Name>, <Grade>`.\n",
        "\n",
        "Write a function `count_above(threshold)` in Python that reads the contents of `students.csv` and displays the details of those students whose grades are above `threshold` and the number of students that are below the threshold. The `threshold` must be a float."
      ],
      "metadata": {
        "id": "qBun43suKbXm"
      }
    },
    {
      "cell_type": "markdown",
      "source": [
        "### Rubric (20 marks)\n",
        "\n",
        "*Correct Inputs (3 marks)*:\n",
        " - using this function signature: \"count_above(threshold)\" --> They must use these names (1)\n",
        "- Correctly reads the students.csv file -- Open with reading flag (2)\n",
        "\n",
        "*Error Handling (3 marks):*\n",
        " - Include error handling for file opening (try-except) (3)\n",
        "\n",
        "*Processing steps (6 marks):*\n",
        "  - Determine the students whose grades are above threshold. (3)\n",
        "  - Count the number of students that are below the threshold. (3)\n",
        "\n",
        "*(Output 4 marks):*\n",
        "  - Outputs the results from the Processing step:\n",
        "    - (names above threshold) (2)\n",
        "    - (number of the students below threshold) (2)\n",
        "    - Nice print to notify user that there was an error. (2)\n",
        "\n",
        "*Style (2 marks):*\n",
        " -  PEP (variables and functions all lower case. Meaningful names) (2)"
      ],
      "metadata": {
        "id": "GgQrVwXrjTdf"
      }
    },
    {
      "cell_type": "code",
      "source": [
        "def count_above(threshold):\n",
        "  try:\n",
        "    # initializing the student count threshold to 0\n",
        "    student_count_below_threshold = 0\n",
        "\n",
        "    # opening the students.csv in read mode\n",
        "    with open('students.csv','r') as file_iterator:\n",
        "      # creating the instance of file reader\n",
        "      reader = csv.reader(file_iterator)\n",
        "      \n",
        "      # iterating through the file rows using file reader\n",
        "      for row in reader:\n",
        "        # checking the grade column is greater than threshold\n",
        "        if float(row[2]) > threshold:\n",
        "          print(row)\n",
        "        else:\n",
        "          # if grade is below threshold incrementing the student count below threshold by 1\n",
        "          student_count_below_threshold += 1\n",
        "\n",
        "      print(\"Number of students that are below the threshold:{}\".format(student_count_below_threshold))\n",
        "\n",
        "  # handling the exception\n",
        "  except Exception as e:\n",
        "    print(\"Exception occurred:{}\".format(e))\n",
        "\n",
        "try:\n",
        "  # taking the user input\n",
        "  threshold = float(input(\"Enter threshold value:\"))\n",
        "  count_above(threshold)\n",
        "\n",
        "# handling the exception\n",
        "except Exception as e:\n",
        "  print(\"Invalid threshold value\")"
      ],
      "metadata": {
        "colab": {
          "base_uri": "https://localhost:8080/"
        },
        "id": "LExfcJle-1gh",
        "outputId": "d14a5741-0adc-4632-c641-57bbbfc77bbb"
      },
      "execution_count": null,
      "outputs": [
        {
          "output_type": "stream",
          "name": "stdout",
          "text": [
            "Enter threshold value:50\n",
            "Exception occurred:[Errno 2] No such file or directory: 'students.csv'\n"
          ]
        }
      ]
    },
    {
      "cell_type": "markdown",
      "source": [
        "## Exercise 3\n",
        "Write a Python function that prints the last `num_lines` of a files.\n",
        "\n",
        "The function should be called `file_read_from_tail` that receives two parameters: `fname` (a string with the complete path of the file to be read), and `num_lines` (an integer, representing number of lines to be read)."
      ],
      "metadata": {
        "id": "jKSU_OP2JUBo"
      }
    },
    {
      "cell_type": "markdown",
      "source": [
        "### Rubric (20 marks)\n",
        "\n",
        "*Correct Inputs (3 marks):*\n",
        " - signature should be \"file_read_from_tail(fname, num_lines)\" (1)\n",
        " - Correctly reads the fname file. (2)\n",
        "\n",
        "*Error Handling (2 marks):*\n",
        " - Include error handling for file opening (try-except) (2)\n",
        "\n",
        "*Processing steps (4 marks):*\n",
        " - Reads and stores the contents of the file up to num_lines. (4)\n",
        "\n",
        "*Output (4):*\n",
        "• Outputs the results from the Processing step. (10%)\n",
        "• Notify user that there was an error. (10%)\n",
        "\n",
        "*Style (2 marks)*\n",
        " -  PEP (variables and functions all lower case. Meaningful names)"
      ],
      "metadata": {
        "id": "WvVag7CUi1eO"
      }
    },
    {
      "cell_type": "code",
      "source": [
        "# people can be really creative here. They may iterate over the thing, somehow\n",
        "# to figure out the num_lines latest ones\n",
        "\n",
        "def file_read_from_tail(fname, num_lines):\n",
        "  try:\n",
        "    # opening the file in read mode\n",
        "    with open(fname,'r') as file_iterator:\n",
        "\n",
        "      # creating the instance of file reader\n",
        "      reader = csv.reader(file_iterator)\n",
        "\n",
        "      # creating the rows list using the file reader\n",
        "      rows = [row for row in reader]\n",
        "\n",
        "      # slicing the list to pring last lines\n",
        "      print(rows[-num_lines:])\n",
        "\n",
        "      # # reading all lines from the file iterator\n",
        "      # lines = file_iterator.readlines()\n",
        "\n",
        "      # # printing the lines using list slicing\n",
        "      # print(lines[-num_lines:])\n",
        "\n",
        "      # creating the instance of file reader and making it a list\n",
        "      #reader = list(csv.reader(file_iterator))\n",
        "\n",
        "      # slicing the list to pring last lines\n",
        "      #print(rows[-num_lines:])  \n",
        "\n",
        "  # handling the exception\n",
        "  except Exception as e:\n",
        "    print(\"Exception occurred:{}\".format(e))\n",
        "\n",
        "file_read_from_tail('students.csv',2)"
      ],
      "metadata": {
        "colab": {
          "base_uri": "https://localhost:8080/"
        },
        "id": "J4UxEqRwLFPN",
        "outputId": "dd7ed7f4-4ad7-479e-9cec-9d465a5010af"
      },
      "execution_count": null,
      "outputs": [
        {
          "output_type": "stream",
          "name": "stdout",
          "text": [
            "[['9963', 'aMHBe', '48'], ['5789', 'nzzyF', '86']]\n"
          ]
        }
      ]
    },
    {
      "cell_type": "markdown",
      "source": [
        "## Exercise 4\n",
        "*Deja-vu (HW1)*\n",
        "Please revisit the solution of the following examples from HW1 (Exercise 2, and Exercise 4), and capture and handle all possible exceptions.\n",
        "\n",
        "**Exercise 2.** Write a Python program that, given two integers input by the user, calculates and displays the addition, subtraction, multiplication and division of these two numbers.\n",
        "\n",
        "\n",
        "**Exercise 4.** Write a Python program that, given the scores (0-100) of three exams, calculates and displays the student's final grade, considering that the final grade is the average of the three exams. \n",
        "\n",
        "*TIP: You can consider grades as integer values (`int`) or decimal (`float`), but remember that the average is the result of a division and must therefore be decimal (`float`).*"
      ],
      "metadata": {
        "id": "sdX5pcTiLY6y"
      }
    },
    {
      "cell_type": "markdown",
      "source": [
        "### Rubric (20 marks)\n",
        "\n",
        "*Error handling (20 marks)*\n",
        "All of the student’s code should be surrounded by try/except clauses that handle the appropriate errors.\n",
        "- conversions to int or float need to be surrounded by try-except  (there will be cases in both exercises...)\n",
        "- division needs to be surrounded by try-except"
      ],
      "metadata": {
        "id": "x4_2mP4pjXaI"
      }
    },
    {
      "cell_type": "code",
      "source": [
        "# HW_1 Exercise - 2\n",
        "# Write a Python program that, given two integers input by the user, calculates \n",
        "# and displays the addition, subtraction, multiplication and division \n",
        "# of these two numbers.\n",
        "\n",
        "try:\n",
        "  # type conversion of inputs to float\n",
        "  # if they do int it is OK as well\n",
        "  a=float(input(\"Enter the first number: \"))\n",
        "  b=float(input(\"Enter the second number: \"))\n",
        "\n",
        "\n",
        "# handling type conversion exceptions\n",
        "except ValueError:\n",
        "  print(\"Invalid inputs\")\n",
        "# I do not expect them to catch the KeyboardInterrupt, but it may appear\n",
        "except KeyboardInterrupt:\n",
        "  print(\"No input! Bye bye!\")\n",
        "\n",
        "else:\n",
        "  # addition of inputs\n",
        "  print(f\"{a} + {b} = \", a+b)\n",
        "\n",
        "  # absolute difference of inputs\n",
        "  print(f\"{a} - {b} = \", a-b)\n",
        "\n",
        "  # multiplication of inputs\n",
        "  print(f\"{a} * {b} = \", a*b)\n",
        "  try:\n",
        "\n",
        "    # division of inputs\n",
        "    print(f\"{a} / {b} = \", a/b)\n",
        "\n",
        "  # handling division by zero exception\n",
        "  except ZeroDivisionError:\n",
        "    print(\"Division by Zero\")\n",
        "\n",
        "  # handling other exception\n",
        "  except Exception as e:\n",
        "    print(\"Exception:{}\".format(e))\n",
        "\n",
        "\n"
      ],
      "metadata": {
        "colab": {
          "base_uri": "https://localhost:8080/"
        },
        "id": "5lbLQXseULNH",
        "outputId": "9a558347-209b-41b7-ccf8-e5b318d4585e"
      },
      "execution_count": null,
      "outputs": [
        {
          "output_type": "stream",
          "name": "stdout",
          "text": [
            "Enter the first number: 3\n",
            "Enter the second number: 3.2\n",
            "3.0 + 3.2 =  6.2\n",
            "3.0 - 3.2 =  -0.20000000000000018\n",
            "3.0 * 3.2 =  9.600000000000001\n",
            "3.0 / 3.2 =  0.9375\n"
          ]
        }
      ]
    },
    {
      "cell_type": "code",
      "source": [
        "# Write a Python program that, given the scores (0-100) of three exams, calculates and \n",
        "# displays the student's final grade, considering that the final grade is the average of the three exams.\n",
        "\n",
        "# TIP: You can consider grades as integer values (int) or decimal (float),\n",
        "#  but remember that the average is the result of a division and must therefore be decimal (float).\n",
        "try:\n",
        "  # inputs and conversion: may trigger ValueError\n",
        "  score1 = float (input(\"Please enter the score of exam 1 between 0 and 100 : \"))\n",
        "  score2 = float (input(\"Please enter the score of exam 2 between 0 and 100 : \"))\n",
        "  score3 = float (input(\"Please enter the score of exam 3 between 0 and 100 : \"))\n",
        "  final_grade=(score1+score2+score3)/3\n",
        "  #output - final average score\n",
        "  print(\"Final grade of three exams is : %.2f\" %final_grade)\n",
        "# handling type conversion exception\n",
        "except ValueError:\n",
        "  print(\"Invalid inputs\")\n",
        "\n",
        "# handling other exceptions\n",
        "except Exception as e:\n",
        "  print(\"Exception:{}\".format(e))\n",
        "\n",
        "2"
      ],
      "metadata": {
        "colab": {
          "base_uri": "https://localhost:8080/"
        },
        "id": "ove4ZmbxY7OU",
        "outputId": "b79f0ec3-ea9d-4afc-817c-633773ad35e1"
      },
      "execution_count": null,
      "outputs": [
        {
          "output_type": "stream",
          "name": "stdout",
          "text": [
            "Please enter the score of exam 1 between 0 and 100 : 21\n",
            "Please enter the score of exam 2 between 0 and 100 : 3\n",
            "Please enter the score of exam 3 between 0 and 100 : 34\n",
            "Final grade of three exams is : 19.33\n"
          ]
        }
      ]
    },
    {
      "cell_type": "markdown",
      "source": [
        "## Exercise 5\n",
        "*Deja-vu (HW3)*\n",
        "\n",
        "Let's revisit Exercise 5 from HW3, making sure we capture potential exceptions. This would include potential errors during the input raising a new `IndexError` when n is greater than the length of the list. (Feel free to bring any function you need)\n",
        "\n",
        "**Problem5**\n",
        "\n",
        "Write a program that returns the nth smallest and the nth largest numbers in a list. Both the list numbers and the `n` need to be input by the user. The list must be composed ONLY by integers .\n",
        "\n",
        "You must implement 3 functions here: \n",
        "* `inputs_for_list()` which will return a list (with numbers input by the user)\n",
        "* `nth_smallest_value(lst, n)` which will return one item of the list\n",
        "* `nth_largest_value(lst, n)` which will return one item of the list\n",
        "\n",
        "Some constraints:\n",
        "1. The function `inputs_for_list` is one case in which `input` is used in a function.\n",
        "2. The user must be requested to input numbers to the list until he types \"exit\" (in this case the function must return the list)\n",
        "3. The list MUST have only  or ints (use the function created on Problem 3 to check each input)    \n",
        "  * Be careful, you must check if the user wants to exit before checking\n",
        "  * In case the user types anything that is not a number, you must not consider the number and request a new input.\n",
        "\n",
        "4. `n` can be requested as part of the main body of your program\n",
        "\n",
        "\n",
        "Important: in case of repeated numbers, you count them as just ONCE. For example, in the list `[1,2,2,2,3,3,4]` the 3rd smallest number is `3` while the 3rd greatest is `2`"
      ],
      "metadata": {
        "id": "b0V139yOPbvT"
      }
    },
    {
      "cell_type": "markdown",
      "source": [
        "### Problem 5:\n",
        "*Error handling (20 marks)*\n",
        "\n",
        "All of the student’s code should be surrounded by try/except clauses that handle the appropriate errors.\n",
        "- conversions to int or float need to be surrounded by try-except  \n",
        "- accessing the index of a list/set on nth_smallest_value anmd nth_largest_value --> THEY MAY or MAYNOT need.\n"
      ],
      "metadata": {
        "id": "6NNiamnWjfz7"
      }
    },
    {
      "cell_type": "code",
      "source": [
        "# The goal here is FOCUS ON EXCEPTIONS\n",
        "\n",
        "# function to scan inputs from the user\n",
        "def inputs_for_list():\n",
        "  # initializing the input elements list\n",
        "  list_elements = [] \n",
        "  \n",
        "  #students may be creative here... using flags or the while condition\n",
        "  while True:\n",
        "    try:\n",
        "      # taking the user input\n",
        "      value = input(\"Enter list element or enter exit to stop input scan:\")\n",
        "\n",
        "      # check the value and stop the input scan if it is 'exit'\n",
        "      if (value.lower()=='exit'):\n",
        "        break\n",
        "      \n",
        "      # adding the integer input to the input elements list\n",
        "      list_elements.append(int(value))\n",
        "\n",
        "    # handling the type conversion exceptions\n",
        "    # Students may only print the exception\n",
        "    except ValueError:\n",
        "      print(\"Enter valid input\")\n",
        "    \n",
        "    # handling other exceptions\n",
        "    except Exception as e:\n",
        "      print(\"Exception:{}\".format(e))\n",
        "      break\n",
        "  \n",
        "  # returning the inputs elements list\n",
        "  return list_elements"
      ],
      "metadata": {
        "id": "1m5n16ZWk9zM"
      },
      "execution_count": null,
      "outputs": []
    },
    {
      "cell_type": "code",
      "source": [
        "# function to find nth smallest value\n",
        "def nth_smallest_value(lst, n):\n",
        "  try:\n",
        "    # taking the unique elements in the given list\n",
        "    unique_sorted_elements = list(set(lst))\n",
        "\n",
        "    # check whether nth smallest can be calculated or not\n",
        "    if len(unique_sorted_elements) < n:\n",
        "      print(\"nth_smallest_value cannot be calculated\")\n",
        "      return -1\n",
        "\n",
        "    # returning the nth smallest value\n",
        "    return unique_sorted_elements[n-1]\n",
        "  \n",
        "  # handling indexing related exceptions\n",
        "  except IndexError:\n",
        "    print(\"Index Error\")\n",
        "  \n",
        "  # handling other exceptions\n",
        "  except Exception as e:\n",
        "    print(\"Exception:{}\".format(e))"
      ],
      "metadata": {
        "id": "PfaJvTl9k6Ov"
      },
      "execution_count": null,
      "outputs": []
    },
    {
      "cell_type": "code",
      "source": [
        "# function to find nth largest value\n",
        "def nth_largest_value(lst, n):\n",
        "  try:\n",
        "    # taking the unique elements in the given list\n",
        "    unique_sorted_elements = list(set(lst))\n",
        "\n",
        "    # check whether nth largest can be calculated or not\n",
        "    if len(unique_sorted_elements) < n:\n",
        "      print(\"nth_largest_value cannot be calculated\")\n",
        "      return -1\n",
        "\n",
        "    # returning the nth largest value\n",
        "    return unique_sorted_elements[len(unique_sorted_elements)-n]\n",
        "  \n",
        "  # handling indexing related exceptions\n",
        "  except IndexError:\n",
        "    print(\"Index Error\")\n",
        "  \n",
        "  # handling other exceptions\n",
        "  except Exception as e:\n",
        "    print(\"Exception:{}\".format(e))"
      ],
      "metadata": {
        "id": "8cEmdoeKlDxk"
      },
      "execution_count": null,
      "outputs": []
    },
    {
      "cell_type": "code",
      "source": [
        "# it is not mandatory to have this, OK?\n",
        "\n",
        "def execute_function():\n",
        "  try:\n",
        "    # function call to scan the integer inputs\n",
        "    input_list = inputs_for_list()\n",
        "\n",
        "    # sorting the integer inputs\n",
        "    input_list.sort()\n",
        "\n",
        "    # printing the input integer elements in sorted order\n",
        "    print(\"Elements:{}\".format(input_list))\n",
        "\n",
        "    # taking the user input for n value\n",
        "    n = int(input(\"Enter value of n:\"))\n",
        "\n",
        "    # checking whether n is valid or not i.e. greater than zero\n",
        "    if(n>0):\n",
        "      # call for the nth smallest number\n",
        "      smallest_value = nth_smallest_value(input_list, n)\n",
        "\n",
        "      # checking whether nth smallest is calculated or not\n",
        "      if smallest_value !=-1:\n",
        "        print(\"{} smallest value:{}\".format(n, smallest_value))\n",
        "\n",
        "      # call for the nth largest number\n",
        "      largest_value = nth_largest_value(input_list, n)\n",
        "\n",
        "      # checking whether nth largest is calculated or not\n",
        "      if largest_value !=-1:\n",
        "        print(\"{} largest value:{}\".format(n, largest_value))\n",
        "    else:\n",
        "      print(\"Invalid input\")\n",
        "\n",
        "  # handling type conversion exceptions\n",
        "  except ValueError:\n",
        "    print(\"Invalid input\")\n",
        "\n",
        "  # handling other exceptions\n",
        "  except Exception as e:\n",
        "    print(\"Exception:{}\".format(e))\n",
        "\n",
        "execute_function()\n",
        "execute_function()"
      ],
      "metadata": {
        "colab": {
          "base_uri": "https://localhost:8080/"
        },
        "id": "anci8ozYZUeC",
        "outputId": "ac1ec8bf-e8b7-4641-942d-8f34408ac421"
      },
      "execution_count": null,
      "outputs": [
        {
          "output_type": "stream",
          "name": "stdout",
          "text": [
            "Enter list element or enter exit to stop input scan:edsg\n",
            "Enter valid input\n",
            "Enter list element or enter exit to stop input scan:12\n",
            "Enter list element or enter exit to stop input scan:51\n",
            "Enter list element or enter exit to stop input scan:12\n",
            "Enter list element or enter exit to stop input scan:12\n",
            "Enter list element or enter exit to stop input scan:436\n",
            "Enter list element or enter exit to stop input scan:34\n",
            "Enter list element or enter exit to stop input scan:1235\n",
            "Enter list element or enter exit to stop input scan:123\n",
            "Enter list element or enter exit to stop input scan:ex\n",
            "Enter valid input\n",
            "Enter list element or enter exit to stop input scan:exit\n",
            "Elements:[12, 12, 12, 34, 51, 123, 436, 1235]\n",
            "Enter value of n:4\n",
            "4 smallest value:436\n",
            "4 largest value:51\n",
            "Enter list element or enter exit to stop input scan:dgrgw\n",
            "Enter valid input\n",
            "Enter list element or enter exit to stop input scan:12\n",
            "Enter list element or enter exit to stop input scan:123\n",
            "Enter list element or enter exit to stop input scan:1234\n",
            "Enter list element or enter exit to stop input scan:12\n",
            "Enter list element or enter exit to stop input scan:123\n",
            "Enter list element or enter exit to stop input scan:1234\n",
            "Enter list element or enter exit to stop input scan:exit\n",
            "Elements:[12, 12, 123, 123, 1234, 1234]\n",
            "Enter value of n:10\n",
            "nth_smallest_value cannot be calculated\n",
            "nth_largest_value cannot be calculated\n"
          ]
        }
      ]
    },
    {
      "cell_type": "code",
      "source": [
        "e"
      ],
      "metadata": {
        "id": "NEwRVzl-kt31"
      },
      "execution_count": null,
      "outputs": []
    }
  ]
}